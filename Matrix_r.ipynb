{
  "nbformat": 4,
  "nbformat_minor": 0,
  "metadata": {
    "colab": {
      "provenance": [],
      "authorship_tag": "ABX9TyOZopI7mcXHrORryKW8ngs7"
    },
    "kernelspec": {
      "name": "python3",
      "display_name": "Python 3"
    },
    "language_info": {
      "name": "python"
    }
  },
  "cells": [
    {
      "cell_type": "markdown",
      "source": [
        "Matrix and operation"
      ],
      "metadata": {
        "id": "2jm7xmALigPx"
      }
    },
    {
      "cell_type": "code",
      "source": [
        "install.packages(\"matrixcalc\")\n",
        "library(matrixcalc)"
      ],
      "metadata": {
        "colab": {
          "base_uri": "https://localhost:8080/"
        },
        "id": "S1WDS8DKR8jh",
        "outputId": "f7704a2f-1ee5-4f98-ada5-ee8d6c1ba709"
      },
      "execution_count": null,
      "outputs": [
        {
          "output_type": "stream",
          "name": "stderr",
          "text": [
            "Installing package into ‘/usr/local/lib/R/site-library’\n",
            "(as ‘lib’ is unspecified)\n",
            "\n"
          ]
        }
      ]
    },
    {
      "cell_type": "markdown",
      "source": [
        "corr\n",
        "cov\n",
        "dis\n",
        "xxt\n",
        "xtx\n",
        "orthogonal\n",
        "orthonormal\n",
        "eigen vector\n",
        "dia\n",
        "symm\n"
      ],
      "metadata": {
        "id": "4mmiJPLrmAtE"
      }
    },
    {
      "cell_type": "markdown",
      "source": [
        "**Identity matrix**\n",
        "\n",
        "An identity matrix is a given square matrix of any order which contains on its main diagonal elements with value of one, while the rest of the matrix elements are equal to zero."
      ],
      "metadata": {
        "id": "bVr-3FUv2tJy"
      }
    },
    {
      "cell_type": "code",
      "source": [
        "#identity matrix of order 3 by 3\n",
        "identity3by3 = matrix(c(1,0,0,0,1,0,0,0,1),byrow = TRUE, nrow = 3)\n",
        "print(identity3by3)"
      ],
      "metadata": {
        "colab": {
          "base_uri": "https://localhost:8080/"
        },
        "id": "yLfNzuCU3n_H",
        "outputId": "593c7b74-2615-4046-bd9a-d1abb60e6bca"
      },
      "execution_count": null,
      "outputs": [
        {
          "output_type": "stream",
          "name": "stdout",
          "text": [
            "     [,1] [,2] [,3]\n",
            "[1,]    1    0    0\n",
            "[2,]    0    1    0\n",
            "[3,]    0    0    1\n"
          ]
        }
      ]
    },
    {
      "cell_type": "markdown",
      "source": [
        "**Zero or Null Matrix**\n",
        "\n",
        "If all the elements are zero in a matrix, then it is called a zero matrix and generally denoted by 0. Thus, A = [aij]mxn is a zero-matrix if aij = 0 for all i and j; E.g.\n",
        "\\begin{array}{l}\\left[ \\begin{matrix} 0 & 0 & 0 \\\\ 0 & 0 & 0 \\\\ 0 & 0 & 0 \\\\ \\end{matrix} \\right]\\end{array}"
      ],
      "metadata": {
        "id": "FNNomGRsKRU1"
      }
    },
    {
      "cell_type": "code",
      "source": [
        "zero_mat = matrix(0,2,3)\n",
        "print(zero_mat)"
      ],
      "metadata": {
        "colab": {
          "base_uri": "https://localhost:8080/"
        },
        "id": "jYGe0i5mKaSX",
        "outputId": "56b0de67-2e89-411b-933a-6a5a20ca53d3"
      },
      "execution_count": null,
      "outputs": [
        {
          "output_type": "stream",
          "name": "stdout",
          "text": [
            "     [,1] [,2] [,3]\n",
            "[1,]    0    0    0\n",
            "[2,]    0    0    0\n"
          ]
        }
      ]
    },
    {
      "cell_type": "markdown",
      "source": [
        "**Diagonal Matrix**\n",
        "\n",
        "If all the elements, except the principal diagonal, in a square matrix, are zero, it is called a diagonal matrix. Thus, a square matrix A = [aij] is a diagonal matrix if aij = 0,when i ≠ j.\n",
        "\\begin{array}{l}E.g.\\left[ \\begin{matrix} 2 & 0 & 0 \\\\ 0 & 3 & 0 \\\\ 0 & 0 & 4 \\\\ \\end{matrix} \\right]\\end{array}"
      ],
      "metadata": {
        "id": "VZYmzhRaMNSQ"
      }
    },
    {
      "cell_type": "code",
      "source": [
        "dia_mat = diag(2:4,3,3)\n",
        "print(dia_mat)"
      ],
      "metadata": {
        "colab": {
          "base_uri": "https://localhost:8080/"
        },
        "id": "9P91XxfoMW1_",
        "outputId": "6fcce95c-162d-49c4-8f7d-f2e411b9979b"
      },
      "execution_count": null,
      "outputs": [
        {
          "output_type": "stream",
          "name": "stdout",
          "text": [
            "     [,1] [,2] [,3]\n",
            "[1,]    2    0    0\n",
            "[2,]    0    3    0\n",
            "[3,]    0    0    4\n"
          ]
        }
      ]
    },
    {
      "cell_type": "code",
      "source": [
        "#using diag function\n",
        "identity = diag(3)\n",
        "print(identity)"
      ],
      "metadata": {
        "colab": {
          "base_uri": "https://localhost:8080/"
        },
        "id": "10bb-r3n2sp_",
        "outputId": "3b4dff05-2e8a-41d7-e7c5-d8b43e7c08e8"
      },
      "execution_count": null,
      "outputs": [
        {
          "output_type": "stream",
          "name": "stdout",
          "text": [
            "     [,1] [,2] [,3]\n",
            "[1,]    1    0    0\n",
            "[2,]    0    1    0\n",
            "[3,]    0    0    1\n"
          ]
        }
      ]
    },
    {
      "cell_type": "markdown",
      "source": [
        "**Transpose**\n",
        "\n",
        "The transpose of a matrix is found by interchanging its rows into columns or columns into rows."
      ],
      "metadata": {
        "id": "FEmP6OxfD5tK"
      }
    },
    {
      "cell_type": "code",
      "source": [
        "mat = matrix(1:12,byrow = TRUE, nrow = 3,dimnames = list(c('A','B','C'),c('col1','col2','col3','col4')))\n",
        "print(mat)\n",
        "print(\"After transpose\")\n",
        "print(t(mat))"
      ],
      "metadata": {
        "colab": {
          "base_uri": "https://localhost:8080/"
        },
        "id": "oCvdpY8XEwFt",
        "outputId": "42a617e8-b6c9-4f2a-8b96-d27e2e485c32"
      },
      "execution_count": null,
      "outputs": [
        {
          "output_type": "stream",
          "name": "stdout",
          "text": [
            "  col1 col2 col3 col4\n",
            "A    1    2    3    4\n",
            "B    5    6    7    8\n",
            "C    9   10   11   12\n",
            "[1] \"After transpose\"\n",
            "     A B  C\n",
            "col1 1 5  9\n",
            "col2 2 6 10\n",
            "col3 3 7 11\n",
            "col4 4 8 12\n"
          ]
        }
      ]
    },
    {
      "cell_type": "markdown",
      "source": [
        "**Addition**\n",
        "\n",
        "If A[aij]mxn and B[bij]mxn are two matrices of the same order, then their sum A + B is a matrix, and each element of that matrix is the sum of the corresponding elements, i.e. A + B = [aij + bij]mxn"
      ],
      "metadata": {
        "id": "5319pQP_GwOv"
      }
    },
    {
      "cell_type": "code",
      "source": [
        "matrix1 = matrix(c(3, 9, -1, 4, 2, 6), nrow = 2)\n",
        "print(matrix1)\n",
        "\n",
        "matrix2 = matrix(c(5, 2, 0, 9, 3, 4), nrow = 2)\n",
        "print(matrix2)"
      ],
      "metadata": {
        "colab": {
          "base_uri": "https://localhost:8080/"
        },
        "id": "lZ77KTH4iesv",
        "outputId": "2f837d95-1a2b-4529-e6ac-1682b66654c1"
      },
      "execution_count": null,
      "outputs": [
        {
          "output_type": "stream",
          "name": "stdout",
          "text": [
            "     [,1] [,2] [,3]\n",
            "[1,]    3   -1    2\n",
            "[2,]    9    4    6\n",
            "     [,1] [,2] [,3]\n",
            "[1,]    5    0    3\n",
            "[2,]    2    9    4\n"
          ]
        }
      ]
    },
    {
      "cell_type": "code",
      "source": [
        "#adding two matrices\n",
        "adding_mat = matrix1 + matrix2\n",
        "print(adding_mat)"
      ],
      "metadata": {
        "colab": {
          "base_uri": "https://localhost:8080/"
        },
        "id": "UO3hSUSH4KXk",
        "outputId": "418e5b5d-a702-4409-abd2-6ebb0c34a2ab"
      },
      "execution_count": null,
      "outputs": [
        {
          "output_type": "stream",
          "name": "stdout",
          "text": [
            "     [,1] [,2] [,3]\n",
            "[1,]    8   -1    5\n",
            "[2,]   11   13   10\n"
          ]
        }
      ]
    },
    {
      "cell_type": "markdown",
      "source": [
        "**Subtraction**\n",
        "\n",
        "If A and B are two matrices of the same order, then we define A - B = A + (-B)"
      ],
      "metadata": {
        "id": "z3OzujEYG8zp"
      }
    },
    {
      "cell_type": "code",
      "source": [
        "#subtracting\n",
        "sub_mat = matrix1 - matrix2\n",
        "print(sub_mat)"
      ],
      "metadata": {
        "colab": {
          "base_uri": "https://localhost:8080/"
        },
        "id": "K9_2Wkj94bHB",
        "outputId": "6a5b75aa-3693-4720-8aab-9ca82d3d3c18"
      },
      "execution_count": null,
      "outputs": [
        {
          "output_type": "stream",
          "name": "stdout",
          "text": [
            "     [,1] [,2] [,3]\n",
            "[1,]   -2   -1   -1\n",
            "[2,]    7   -5    2\n"
          ]
        }
      ]
    },
    {
      "cell_type": "markdown",
      "source": [
        "**Multiplication**\n",
        "\n",
        "If A and B be any two matrices, then their product AB will be defined only when the number of columns in A is equal to the number of rows in B.\n",
        "\n",
        "\\begin{array}{l}A={{\\left[ {{a}_{ij}} \\right]}_{m\\,\\times n}}. and \\,B={{\\left[ {{b}_{ij}} \\right]}_{n\\,\\times p}} then\\; their\\; product\\ AB=C={{\\left[ {{c}_{ij}} \\right]}_{m\\,\\times p}}\\end{array}\n",
        "will be a matrix of order m×p where\n",
        "\\begin{array}{l}{{\\left( AB \\right)}_{ij}}={{C}_{ij}}=\\sum\\limits_{r=1}^{n}{{{a}_{ir}}{{b}_{rj}}}\\end{array}"
      ],
      "metadata": {
        "id": "tpu6aY75HUV1"
      }
    },
    {
      "cell_type": "code",
      "source": [
        "#multiplying\n",
        "A = matrix1%*%t(matrix2)\n",
        "B = t(matrix1)%*%matrix2\n",
        "print(\"Creating 2 by 2 matrix\")\n",
        "print(A)\n",
        "print(\"Creating 3 by 3 matrix\")\n",
        "print(B)"
      ],
      "metadata": {
        "colab": {
          "base_uri": "https://localhost:8080/"
        },
        "id": "dBQXg6hCDzJe",
        "outputId": "f6c26725-b2d1-4c6a-a8ae-4918433e3ef2"
      },
      "execution_count": null,
      "outputs": [
        {
          "output_type": "stream",
          "name": "stdout",
          "text": [
            "[1] \"Creating 2 by 2 matrix\"\n",
            "     [,1] [,2]\n",
            "[1,]   21    5\n",
            "[2,]   63   78\n",
            "[1] \"Creating 3 by 3 matrix\"\n",
            "     [,1] [,2] [,3]\n",
            "[1,]   33   81   45\n",
            "[2,]    3   36   13\n",
            "[3,]   22   54   30\n"
          ]
        }
      ]
    },
    {
      "cell_type": "markdown",
      "source": [
        "**Scalar multiplication**\n",
        "\n",
        "If A = [aij]m×n is a matrix and k any number, then the matrix which is obtained by multiplying the elements of A by k is called the scalar multiplication of A by k, and it is denoted by k A, thus if A = [aij]m×n,\n",
        "\n",
        "Then,\n",
        "\\begin{array}{l}k{{A}_{m\\,\\times n}}={{A}_{m\\,\\times \\,n}}k=\\left[ k{{a}_{i\\times j}} \\right]\\end{array}\n",
        "\n"
      ],
      "metadata": {
        "id": "XquVlghMHboZ"
      }
    },
    {
      "cell_type": "code",
      "source": [
        "scalar_mat1 = 5*matrix1\n",
        "scalar_mat2 = matrix1*5\n",
        "print(scalar_mat1)\n",
        "print(scalar_mat2)\n",
        "print(scalar_mat1 == scalar_mat2)"
      ],
      "metadata": {
        "colab": {
          "base_uri": "https://localhost:8080/"
        },
        "id": "R7MfQR_gGREj",
        "outputId": "06445302-6e87-4eeb-f85a-9e8d895df4b8"
      },
      "execution_count": null,
      "outputs": [
        {
          "output_type": "stream",
          "name": "stdout",
          "text": [
            "     [,1] [,2] [,3]\n",
            "[1,]   15   -5   10\n",
            "[2,]   45   20   30\n",
            "     [,1] [,2] [,3]\n",
            "[1,]   15   -5   10\n",
            "[2,]   45   20   30\n",
            "     [,1] [,2] [,3]\n",
            "[1,] TRUE TRUE TRUE\n",
            "[2,] TRUE TRUE TRUE\n"
          ]
        }
      ]
    },
    {
      "cell_type": "markdown",
      "source": [
        "**Symmetric and Skew Symmetric Matrices**\n",
        "\n",
        "**Symmetric matrix:** A square matrix A = [aij] is called a symmetric matrix if aij = aji, for all i,j values;\n",
        "Eg:\n",
        "\\begin{array}{l}A=\\left( \\begin{matrix} 1 & 2 & 3 \\\\ 2 & 4 & 5 \\\\ 3 & 5 & 2 \\\\ \\end{matrix} \\right)\\end{array}\n",
        "is symmetric, because a12 = 2 = a21, a31 = 3 = a13 etc.\n",
        "\n",
        "Note: A is symmetric if A’ = A (where ‘A’ is the transpose of the matrix)\n",
        "\n",
        "**Skew-Symmetric Matrix:** A square matrix A = [aij] is a skew-symmetric matrix if aij = aji, for all values of i,j.\n",
        "[putting j = i] aii = 0\n",
        "Thus, in a skew-symmetric matrix, all diagonal elements are zero; E.g.\n",
        "\\begin{array}{l}A=\\left[ \\begin{matrix} 0 & 2 & 1 \\\\ -2 & 0 & -3 \\\\ -1 & 3 & 0 \\\\ \\end{matrix} \\right],B=\\left[ \\begin{matrix} 0 & 2 \\\\ -2 & 0 \\\\ \\end{matrix} \\right]\\end{array}\n",
        "are skew-symmetric matrices.\n",
        "\n",
        "Note: A square matrix A is a skew-symmetric matrix A’ = -A."
      ],
      "metadata": {
        "id": "fFP3y9hUJKSs"
      }
    },
    {
      "cell_type": "code",
      "source": [
        "my_mat = matrix(c(1, 2, 3, 4,\n",
        "                   0, 1, 5, 6,\n",
        "                   0, 0, 1, 7,\n",
        "                   0, 0, 0, 1),\n",
        "                 ncol = 4)\n",
        "\n",
        "my_sym = my_mat\n",
        "my_sym[upper.tri(my_sym)] = t(my_sym)[upper.tri(my_sym)]\n",
        "print(my_sym)"
      ],
      "metadata": {
        "colab": {
          "base_uri": "https://localhost:8080/"
        },
        "id": "c9C30-mjJLOl",
        "outputId": "fdb3fc09-6503-4e9f-b566-8571a740304c"
      },
      "execution_count": null,
      "outputs": [
        {
          "output_type": "stream",
          "name": "stdout",
          "text": [
            "     [,1] [,2] [,3] [,4]\n",
            "[1,]    1    2    3    4\n",
            "[2,]    2    1    5    6\n",
            "[3,]    3    5    1    7\n",
            "[4,]    4    6    7    1\n"
          ]
        }
      ]
    },
    {
      "cell_type": "code",
      "source": [
        "#Checking  A’ = A\n",
        "z <- my_sym == t(my_sym)\n",
        "print(z)"
      ],
      "metadata": {
        "colab": {
          "base_uri": "https://localhost:8080/"
        },
        "id": "qRA23gvwJLs5",
        "outputId": "1e18c7e4-2a68-49fa-9f68-45a928d73ce1"
      },
      "execution_count": null,
      "outputs": [
        {
          "output_type": "stream",
          "name": "stdout",
          "text": [
            "     [,1] [,2] [,3] [,4]\n",
            "[1,] TRUE TRUE TRUE TRUE\n",
            "[2,] TRUE TRUE TRUE TRUE\n",
            "[3,] TRUE TRUE TRUE TRUE\n",
            "[4,] TRUE TRUE TRUE TRUE\n"
          ]
        }
      ]
    },
    {
      "cell_type": "code",
      "source": [
        "#Checking using is_symmetric_matrix() function\n",
        "isSymmetric(my_sym)"
      ],
      "metadata": {
        "colab": {
          "base_uri": "https://localhost:8080/",
          "height": 34
        },
        "id": "ix38c7wuRQLw",
        "outputId": "977259da-29df-4de4-e3aa-c1e5607ab1dc"
      },
      "execution_count": null,
      "outputs": [
        {
          "output_type": "display_data",
          "data": {
            "text/html": [
              "TRUE"
            ],
            "text/markdown": "TRUE",
            "text/latex": "TRUE",
            "text/plain": [
              "[1] TRUE"
            ]
          },
          "metadata": {}
        }
      ]
    },
    {
      "cell_type": "code",
      "source": [
        "x = matrix(1:4,nrow = 2)\n",
        "print(x)\n",
        "print(isSymmetric(x))"
      ],
      "metadata": {
        "colab": {
          "base_uri": "https://localhost:8080/"
        },
        "id": "f9FgEHu5SkF1",
        "outputId": "8390da29-82a0-449d-e072-08af65f300b0"
      },
      "execution_count": null,
      "outputs": [
        {
          "output_type": "stream",
          "name": "stdout",
          "text": [
            "     [,1] [,2]\n",
            "[1,]    1    3\n",
            "[2,]    2    4\n",
            "[1] FALSE\n"
          ]
        }
      ]
    },
    {
      "cell_type": "code",
      "source": [
        "my_skew = 0.5*(my_mat - t(my_mat))\n",
        "print(my_skew)"
      ],
      "metadata": {
        "colab": {
          "base_uri": "https://localhost:8080/"
        },
        "id": "HTFNfi2kS13d",
        "outputId": "09be40e7-197c-4b0a-b8fc-623e0147aa4a"
      },
      "execution_count": null,
      "outputs": [
        {
          "output_type": "stream",
          "name": "stdout",
          "text": [
            "     [,1] [,2] [,3] [,4]\n",
            "[1,]  0.0 -1.0 -1.5 -2.0\n",
            "[2,]  1.0  0.0 -2.5 -3.0\n",
            "[3,]  1.5  2.5  0.0 -3.5\n",
            "[4,]  2.0  3.0  3.5  0.0\n"
          ]
        }
      ]
    },
    {
      "cell_type": "code",
      "source": [
        "#checking skew_symm\n",
        "print(my_skew == -t(my_skew))\n"
      ],
      "metadata": {
        "colab": {
          "base_uri": "https://localhost:8080/"
        },
        "id": "NCnkii0iUBKW",
        "outputId": "b73afb8b-051f-4ede-d68f-e515ce24460e"
      },
      "execution_count": null,
      "outputs": [
        {
          "output_type": "stream",
          "name": "stdout",
          "text": [
            "     [,1] [,2] [,3] [,4]\n",
            "[1,] TRUE TRUE TRUE TRUE\n",
            "[2,] TRUE TRUE TRUE TRUE\n",
            "[3,] TRUE TRUE TRUE TRUE\n",
            "[4,] TRUE TRUE TRUE TRUE\n"
          ]
        }
      ]
    },
    {
      "cell_type": "code",
      "source": [
        "x = matrix(1:4,nrow = 2)\n",
        "print(x)\n",
        "print(is.skew.symmetric.matrix(x))"
      ],
      "metadata": {
        "colab": {
          "base_uri": "https://localhost:8080/"
        },
        "id": "MzaetieuUTRh",
        "outputId": "9d34bdcd-2e45-4c49-e6a8-712a508fec32"
      },
      "execution_count": null,
      "outputs": [
        {
          "output_type": "stream",
          "name": "stdout",
          "text": [
            "     [,1] [,2]\n",
            "[1,]    1    3\n",
            "[2,]    2    4\n",
            "[1] FALSE\n"
          ]
        }
      ]
    },
    {
      "cell_type": "markdown",
      "source": [
        "**Determinant of Matrix**\n",
        "\n",
        "The determinant of a matrix is the scalar value or number calculated using a square matrix. The square matrix could be 2×2, 3×3, 4×4, or any type, such as n × n, where the number of column and rows are equal. If S is the set of square matrices, R is the set of numbers (real or complex) and f : S → R is defined by f (A) = k, where A ∈ S and k ∈ R, then f (A) is called the determinant of A.\n",
        "The value of the determinant of a 2 × 2 matrix can be given as\n",
        "\n",
        "det A =\n",
        "\\begin{array}{l} a_{11} × a_{22} – a_{21} × a_{21} \\end{array}\n",
        "\n",
        "**Adjoint of a Matrix**\n",
        "\n",
        "The transpose of the matrix of co-factors is called the adjoint of matrix A and is written as adj A. \\begin{array}{l}If A=\\left[ \\begin{matrix} {{a}_{11}} & {{a}_{12}} & {{a}_{13}} \\\\ {{a}_{21}} & {{a}_{22}} & {{a}_{23}} \\\\ {{a}_{31}} & {{a}_{32}} & {{a}_{33}} \\\\ \\end{matrix} \\right]\\end{array}\n",
        "\n",
        "The matrix formed by the cofactors of the elements is\n",
        "\\begin{array}{l}\\left[ \\begin{matrix} {{A}_{11}} & {{A}_{12}} & {{A}_{13}} \\\\ {{A}_{21}} & {{A}_{22}} & {{A}_{23}} \\\\ {{A}_{31}} & {{A}_{32}} & {{A}_{33}} \\\\ \\end{matrix} \\right]\\end{array}\n",
        "Therefore,\n",
        "\\begin{array}{l}adj\\,A=\\left[ \\begin{matrix} {{A}_{11}} & {{A}_{21}} & {{A}_{31}} \\\\ {{A}_{12}} & {{A}_{22}} & {{A}_{32}} \\\\ {{A}_{13}} & {{A}_{23}} & {{A}_{33}} \\\\ \\end{matrix} \\right]\\end{array}\n",
        "**Inverse of a Matrix**\n",
        "\n",
        "If A and B are two square matrices of the same order, such that AB = BA = I (I = unit matrix), then B is called the inverse of A, i.e., B = A–1, and A is the inverse of B. Condition for a square matrix A to possess an inverse is that the matrix A is non-singular, i.e., | A | ≠ 0. If A is a square matrix and B is its inverse, then AB = I. Taking the determinant of both sides | AB | = | I | or | A | | B | = I. From this relation, it is clear that | A | ≠ 0, i.e. the matrix A is non-singular.\n",
        "\\begin{array}{l}{{A}^{-1}}=\\frac{1}{\\left| A \\right|}\\left( Adj.\\,A \\right)\\end{array}"
      ],
      "metadata": {
        "id": "scEIO_ZJT_bw"
      }
    },
    {
      "cell_type": "code",
      "source": [
        "M = matrix(c( 0, 3, 1, -2, 1, 4, -1,- 4, 0 ),nrow = 3,byrow = TRUE)\n",
        "print(M)\n",
        "#calculate the det\n",
        "det_M = det(M)\n",
        "# Calculate the inverse of the matrix\n",
        "inv_M = matrix.inverse(M)\n",
        "# Calculate the adjoint of the matrix\n",
        "adj_M = det_M * inv_M\n",
        "# Print the adjoint matrix\n",
        "print(\"Adjoint\")\n",
        "print(adj_M)\n",
        "print(\"detreminant\")\n",
        "print(det_M)\n",
        "print(\"inverse\")\n",
        "print(inv_M)"
      ],
      "metadata": {
        "colab": {
          "base_uri": "https://localhost:8080/"
        },
        "id": "hwcrN84DV0-J",
        "outputId": "ff44d767-728b-483b-f3c5-fb0a4b69520b"
      },
      "execution_count": null,
      "outputs": [
        {
          "output_type": "stream",
          "name": "stdout",
          "text": [
            "     [,1] [,2] [,3]\n",
            "[1,]    0    3    1\n",
            "[2,]   -2    1    4\n",
            "[3,]   -1   -4    0\n",
            "[1] \"Adjoint\"\n",
            "     [,1] [,2] [,3]\n",
            "[1,]   16   -4   11\n",
            "[2,]   -4    1   -2\n",
            "[3,]    9   -3    6\n",
            "[1] \"detreminant\"\n",
            "[1] -3\n",
            "[1] \"inverse\"\n",
            "          [,1]       [,2]       [,3]\n",
            "[1,] -5.333333  1.3333333 -3.6666667\n",
            "[2,]  1.333333 -0.3333333  0.6666667\n",
            "[3,] -3.000000  1.0000000 -2.0000000\n"
          ]
        }
      ]
    },
    {
      "cell_type": "markdown",
      "source": [
        "**Rank of a Matrix**\n",
        "\n",
        "The maximum number of linearly independent columns (or rows) of a matrix is called the rank of a matrix. The rank of a matrix cannot exceed the number of its rows or columns.\n",
        "If we consider a square matrix, the columns (rows) are linearly independent only if the matrix is nonsingular. In other words, the rank of any nonsingular matrix of order m is m. The rank of a matrix A is denoted by ρ(A).\n",
        "\n",
        "The rank of a null matrix is zero. A null matrix has no non-zero rows or columns. So, there are no independent rows or columns. Hence, the rank of a null matrix is zero."
      ],
      "metadata": {
        "id": "CmqrnpdYf-54"
      }
    },
    {
      "cell_type": "code",
      "source": [
        "print(my_sym)\n",
        "print(\"Rank of this matrix is\")\n",
        "print(qr(my_sym)$rank)"
      ],
      "metadata": {
        "colab": {
          "base_uri": "https://localhost:8080/"
        },
        "id": "g1omV3Wuf-H-",
        "outputId": "3cc7ecd4-0bba-4467-b462-ec4073fcfe76"
      },
      "execution_count": null,
      "outputs": [
        {
          "output_type": "stream",
          "name": "stdout",
          "text": [
            "     [,1] [,2] [,3] [,4]\n",
            "[1,]    1    2    3    4\n",
            "[2,]    2    1    5    6\n",
            "[3,]    3    5    1    7\n",
            "[4,]    4    6    7    1\n",
            "[1] \"Rank of this matrix is\"\n",
            "[1] 4\n"
          ]
        }
      ]
    },
    {
      "cell_type": "code",
      "source": [
        "zero = matrix(0,3,3)\n",
        "print(zero)\n",
        "print(\"Rank of this matrix is\")\n",
        "print(qr(zero)$rank)"
      ],
      "metadata": {
        "colab": {
          "base_uri": "https://localhost:8080/"
        },
        "id": "YkWWrl5Pg4bY",
        "outputId": "5910f098-e1e3-4c63-a343-bb8d85542812"
      },
      "execution_count": null,
      "outputs": [
        {
          "output_type": "stream",
          "name": "stdout",
          "text": [
            "     [,1] [,2] [,3]\n",
            "[1,]    0    0    0\n",
            "[2,]    0    0    0\n",
            "[3,]    0    0    0\n",
            "[1] \"Rank of this matrix is\"\n",
            "[1] 0\n"
          ]
        }
      ]
    },
    {
      "cell_type": "markdown",
      "source": [
        "The dimensions of a matrix are the number of rows by the number of columns."
      ],
      "metadata": {
        "id": "q9nvAGE2hZXy"
      }
    },
    {
      "cell_type": "code",
      "source": [
        "print(dim(my_skew))"
      ],
      "metadata": {
        "colab": {
          "base_uri": "https://localhost:8080/"
        },
        "id": "kaVItf_IhaZz",
        "outputId": "f7022ea7-9178-4de4-91ad-e0271223c252"
      },
      "execution_count": null,
      "outputs": [
        {
          "output_type": "stream",
          "name": "stdout",
          "text": [
            "[1] 4 4\n"
          ]
        }
      ]
    },
    {
      "cell_type": "markdown",
      "source": [
        "Practical uses:\n",
        "\n",
        "**Row Sum and Column Sum:**\n",
        "- **Data Analysis:** In data analysis, the sum of rows or columns in a matrix (which might represent a data set) can be useful for comparative analysis tools such as analysis of variance, chi−square testing.\n",
        "- **Image Processing:** In image processing, the sum of rows or columns can be used to analyze the distribution of pixel values.\n",
        "- **Graph Theory:** In graph theory, the sum of rows or columns in an adjacency matrix represents the degree of each vertex in the graph.\n",
        "- **Statistics:** In statistics, the sum of rows or columns in a contingency table is used in chi-square tests for independence.\n",
        "\n",
        "**Trace of a Matrix:**\n",
        "- **Eigenvalues:** The trace of a matrix is the sum of its eigenvalues. This property can be exploited for proving certain results.\n",
        "- **Invariant Property:** The trace of a matrix is an invariant under changes of basis and therefore remains the same under different perspectives.\n",
        "- **Linear Algebra:** In linear algebra, the trace of a matrix is used in the characterization of several matrix norms.\n",
        "- **Differential Geometry:** In differential geometry, if the matrix is a curvature tensor, the trace gives the mean curvature.\n",
        "\n",
        "Remember, these operations are defined for square matrices. For non-square matrices, you might need to adjust your approach accordingly.\n"
      ],
      "metadata": {
        "id": "tfDI6tpth8gp"
      }
    },
    {
      "cell_type": "code",
      "source": [
        "print(my_mat)\n",
        "print(\"Row sum of this matrix is\")\n",
        "print(rowSums(my_mat))"
      ],
      "metadata": {
        "colab": {
          "base_uri": "https://localhost:8080/"
        },
        "id": "wo43Bg88jDB7",
        "outputId": "3da3b31f-3e75-4ab3-a565-858af06096b0"
      },
      "execution_count": null,
      "outputs": [
        {
          "output_type": "stream",
          "name": "stdout",
          "text": [
            "     [,1] [,2] [,3] [,4]\n",
            "[1,]    1    0    0    0\n",
            "[2,]    2    1    0    0\n",
            "[3,]    3    5    1    0\n",
            "[4,]    4    6    7    1\n",
            "[1] \"Row sum of this matrix is\"\n",
            "[1]  1  3  9 18\n"
          ]
        }
      ]
    },
    {
      "cell_type": "code",
      "source": [
        "print(my_mat)\n",
        "print(\"Column sum of this matrix is\")\n",
        "print(colSums(my_mat))"
      ],
      "metadata": {
        "colab": {
          "base_uri": "https://localhost:8080/"
        },
        "id": "AC4lO72Gjy7C",
        "outputId": "29c19910-981b-4e21-d6a3-43fc9a9a10a0"
      },
      "execution_count": null,
      "outputs": [
        {
          "output_type": "stream",
          "name": "stdout",
          "text": [
            "     [,1] [,2] [,3] [,4]\n",
            "[1,]    1    0    0    0\n",
            "[2,]    2    1    0    0\n",
            "[3,]    3    5    1    0\n",
            "[4,]    4    6    7    1\n",
            "[1] \"Column sum of this matrix is\"\n",
            "[1] 10 12  8  1\n"
          ]
        }
      ]
    },
    {
      "cell_type": "code",
      "source": [
        "print(my_mat)\n",
        "print(\"Trace of this matrix is\")\n",
        "print(matrix.trace(my_mat))"
      ],
      "metadata": {
        "colab": {
          "base_uri": "https://localhost:8080/"
        },
        "id": "OLqMldnoj8lE",
        "outputId": "3c97aa10-fcc0-4317-b817-f78323f69ccc"
      },
      "execution_count": null,
      "outputs": [
        {
          "output_type": "stream",
          "name": "stdout",
          "text": [
            "     [,1] [,2] [,3] [,4]\n",
            "[1,]    1    0    0    0\n",
            "[2,]    2    1    0    0\n",
            "[3,]    3    5    1    0\n",
            "[4,]    4    6    7    1\n",
            "[1] \"Trace of this matrix is\"\n",
            "[1] 4\n"
          ]
        }
      ]
    },
    {
      "cell_type": "markdown",
      "source": [
        "**Eigenvalue Definition**\n",
        "\n",
        "Eigenvalues are the special set of scalars associated with the system of linear equations. It is mostly used in matrix equations. ‘Eigen’ is a German word that means ‘proper’ or ‘characteristic’. Therefore, the term eigenvalue can be termed as characteristic value, characteristic root, proper values or latent roots as well. In simple words, the eigenvalue is a scalar that is used to transform the eigenvector. The basic equation is\n",
        "\n",
        "                                    Ax = λx\n",
        "\n",
        "The number or scalar value “λ” is an eigenvalue of A\n",
        "\n",
        "**EigenVectors**\n",
        "Eigenvectors are the vectors (non-zero) that do not change the direction when any linear transformation is applied. It changes by only a scalar factor. In a brief, we can say, if A is a linear transformation from a vector space V and x is a vector in V, which is not a zero vector, then v is an eigenvector of A if A(X) is a scalar multiple of x.\n",
        "\n",
        "Eigenvalues and eigenvectors have a wide range of practical applications in various fields. Here are some examples:\n",
        "\n",
        "1. **System of Communication:** Claude Shannon used eigenvalues to calculate the theoretical limit of how much information can be carried via a communication channel such as a telephone line or the air.\n",
        "2. **Bridge Construction:** The smallest magnitude eigenvalue of a system that models the bridge is the natural frequency of the bridge. Engineers use this knowledge to ensure that their structures are stable.\n",
        "3. **Automobile Stereo System Design:** Eigenvalue analysis is also used in the design of car stereo systems, where it aids in the reproduction of car vibration caused by music.\n",
        "4. **Electrical Engineering:** The use of eigenvalues and eigenvectors to decouple three-phase systems via symmetrical component transformation is advantageous.\n",
        "5. **Mechanical Engineering:** Eigenvalues and eigenvectors enable us to \"decompose\" a linear process into smaller, more manageable tasks. For example, when stress is applied to a \"plastic\" solid, the deformation can be divided into \"principle directions,\" or the directions where the deformation is greatest.\n",
        "6. **Image Compression:** Using singular value decomposition for image compression. You can compress an image by throwing away the small eigenvalues.\n",
        "7. **Special Relativity:** Deriving Special Relativity is more natural in the language of linear algebra. In fact, Einstein's second postulate really states that \"Light is an eigenvector of the Lorentz transform.\n",
        "8. **Spectral Clustering:** Whether it's in plants and biology, medical imaging, business and marketing, understanding the connections between fields on Facebook, or even criminology, clustering is an extremely important part of modern data analysis.\n",
        "\n"
      ],
      "metadata": {
        "id": "2zIojxXOkh__"
      }
    },
    {
      "cell_type": "code",
      "source": [
        "A = matrix(c(13, -4, 2, -4, 11, -2, 2, -2, 8), 3, 3, byrow=TRUE)\n",
        "print(A)\n",
        "Ei = eigen(A)\n",
        "vec = Ei$values\n",
        "print(\"Eigen values are\")\n",
        "print(vec)\n",
        "print(\"Eigen vectors are\")\n",
        "print(Ei$vectors)\n"
      ],
      "metadata": {
        "colab": {
          "base_uri": "https://localhost:8080/"
        },
        "id": "koCd8qD7mz0g",
        "outputId": "5333543f-66d4-4122-d549-a8964b862836"
      },
      "execution_count": null,
      "outputs": [
        {
          "output_type": "stream",
          "name": "stdout",
          "text": [
            "     [,1] [,2] [,3]\n",
            "[1,]   13   -4    2\n",
            "[2,]   -4   11   -2\n",
            "[3,]    2   -2    8\n",
            "[1] \"Eigen values are\"\n",
            "[1] 17  8  7\n",
            "[1] \"Eigen vectors are\"\n",
            "           [,1]       [,2]      [,3]\n",
            "[1,]  0.7453560  0.6666667 0.0000000\n",
            "[2,] -0.5962848  0.6666667 0.4472136\n",
            "[3,]  0.2981424 -0.3333333 0.8944272\n"
          ]
        }
      ]
    },
    {
      "cell_type": "markdown",
      "source": [
        "**Orthogonal Matrix:** A square matrix `A` is orthogonal if `A^T = A^-1` or `A^T * A = I`, where `A^T` is the transpose of `A`, `A^-1` is the inverse of `A`, and `I` is the identity matrix. They are used in signal processing, time series analysis, linear algebra algorithms, and QR decomposition.\n",
        "\n",
        "**Orthonormal Matrix:** A matrix is orthonormal if it's orthogonal and all its vectors have a magnitude of 1. They are used in eigenvalue decomposition, spectral decomposition, Principal Component Analysis (PCA), etc."
      ],
      "metadata": {
        "id": "0dZyok8KonDU"
      }
    },
    {
      "cell_type": "code",
      "source": [
        "#update\n"
      ],
      "metadata": {
        "id": "vyAbJY7Ruoe7"
      },
      "execution_count": 4,
      "outputs": []
    }
  ]
}